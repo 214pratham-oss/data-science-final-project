{
 "cells": [
  {
   "cell_type": "markdown",
   "id": "9ea80405-467b-4290-8149-4274f3f6021b",
   "metadata": {},
   "source": [
    "# Data Science Tools and Ecosystem\n"
   ]
  },
  {
   "cell_type": "markdown",
   "id": "03b83aca-0a8a-44bb-a7b8-61c372b960eb",
   "metadata": {},
   "source": [
    "## Introduction\n",
    "In this notebook, we summarize some of the popular tools, libraries, and languages used in Data Science.  \n",
    "We will also demonstrate some basic arithmetic operations using Python.\n"
   ]
  },
  {
   "cell_type": "markdown",
   "id": "d4f5ed3e-0696-45b3-aa98-fdbb976eee47",
   "metadata": {},
   "source": [
    "## Data Science Languages\n",
    "\n",
    "Here are some of the popular languages used in Data Science:\n",
    "\n",
    "1. Python  \n",
    "2. R  \n",
    "3. SQL  \n",
    "4. Julia  \n"
   ]
  },
  {
   "cell_type": "markdown",
   "id": "2d6cccf4-49e6-4d4d-921c-d1ed10e07511",
   "metadata": {},
   "source": [
    "## Data Science Libraries\n",
    "\n",
    "Here are some of the most popular libraries used in Data Science:\n",
    "\n",
    "1. Pandas  \n",
    "2. NumPy  \n",
    "3. Matplotlib  \n",
    "4. Scikit-learn  \n",
    "5. TensorFlow  \n"
   ]
  },
  {
   "cell_type": "markdown",
   "id": "2b065efb-470a-4678-8dc3-c406a8884dae",
   "metadata": {},
   "source": [
    "## Data Science Tools\n",
    "\n",
    "Here is a table of some popular Data Science tools:\n",
    "\n",
    "| Tool          | Description                     |\n",
    "|---------------|---------------------------------|\n",
    "| Jupyter       | Notebook environment            |\n",
    "| RStudio       | IDE for R programming           |\n",
    "| Apache Spark  | Big data processing framework   |\n"
   ]
  },
  {
   "cell_type": "markdown",
   "id": "875ce96d-0df1-45de-a606-b5494c5e693d",
   "metadata": {},
   "source": [
    "## Examples of Arithmetic Expressions\n",
    "\n",
    "In this section, we will demonstrate simple arithmetic expressions such as addition and multiplication.\n"
   ]
  },
  {
   "cell_type": "code",
   "execution_count": 2,
   "id": "6794af10-59c7-4fcb-bc69-567305bc41aa",
   "metadata": {},
   "outputs": [
    {
     "data": {
      "text/plain": [
       "17"
      ]
     },
     "execution_count": 2,
     "metadata": {},
     "output_type": "execute_result"
    }
   ],
   "source": [
    "# Multiplication and Addition Example\n",
    "result = (3 * 4) + 5\n",
    "result\n"
   ]
  },
  {
   "cell_type": "code",
   "execution_count": 3,
   "id": "776ed2c4-3feb-44e9-bd9e-9b0f6ed8a4a5",
   "metadata": {},
   "outputs": [
    {
     "data": {
      "text/plain": [
       "3.3333333333333335"
      ]
     },
     "execution_count": 3,
     "metadata": {},
     "output_type": "execute_result"
    }
   ],
   "source": [
    "# Convert minutes to hours\n",
    "minutes = 200\n",
    "hours = minutes / 60\n",
    "hours\n"
   ]
  },
  {
   "cell_type": "markdown",
   "id": "46077672-1efe-4b4a-8be1-0167f8c72568",
   "metadata": {},
   "source": [
    "## Objectives\n",
    "\n",
    "The objectives of this notebook are:\n",
    "\n",
    "- List popular languages for Data Science  \n",
    "- List commonly used libraries  \n",
    "- Create a table of Data Science tools  \n",
    "- Demonstrate arithmetic operations in Python  \n"
   ]
  },
  {
   "cell_type": "markdown",
   "id": "0635d595-ac5b-4ee9-9a16-ce31e04c8003",
   "metadata": {},
   "source": [
    "## Author\n",
    "\n",
    "**Prathamesh Anil Choudhary**\n"
   ]
  },
  {
   "cell_type": "code",
   "execution_count": null,
   "id": "c0d27284-7764-40a5-9a96-78384387124b",
   "metadata": {},
   "outputs": [],
   "source": []
  }
 ],
 "metadata": {
  "kernelspec": {
   "display_name": "Python 3 (ipykernel)",
   "language": "python",
   "name": "python3"
  },
  "language_info": {
   "codemirror_mode": {
    "name": "ipython",
    "version": 3
   },
   "file_extension": ".py",
   "mimetype": "text/x-python",
   "name": "python",
   "nbconvert_exporter": "python",
   "pygments_lexer": "ipython3",
   "version": "3.13.5"
  }
 },
 "nbformat": 4,
 "nbformat_minor": 5
}
